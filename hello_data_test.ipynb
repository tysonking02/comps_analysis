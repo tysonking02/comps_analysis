{
 "cells": [
  {
   "cell_type": "code",
   "execution_count": 1,
   "metadata": {},
   "outputs": [],
   "source": [
    "import requests\n",
    "import json\n",
    "import pandas as pd\n",
    "\n",
    "api_key = \"f3898958-b76a-4a47-816f-0294f0c5103d\"\n",
    "\n",
    "BASE_URL = \"https://api.hellodata.ai\"\n",
    "\n",
    "HEADERS = {\n",
    "    \"x-api-key\": api_key\n",
    "}"
   ]
  },
  {
   "cell_type": "code",
   "execution_count": 4,
   "metadata": {},
   "outputs": [],
   "source": [
    "url = f\"{BASE_URL}/property/search\"\n",
    "query = {\"q\": \"707 Park Ave NE, Atlanta, 30326\"}\n",
    "\n",
    "phipps = requests.get(url, headers=HEADERS, params=query).json()\n",
    "phipps_id = phipps[0][\"id\"]\n",
    "\n",
    "url = f\"{BASE_URL}/property/{phipps_id}\"\n",
    "\n",
    "response = requests.get(url, headers=HEADERS)\n",
    "property_details = response.json()\n",
    "\n",
    "with open('../comps_analysis/phipps_details.txt', 'w') as f:\n",
    "    f.write(json.dumps(property_details, indent=4))\n",
    "\n",
    "url = f\"{BASE_URL}/property/comparables\"\n",
    "\n",
    "payload = {\n",
    "    \"subject\": property_details\n",
    "}\n",
    "\n",
    "response = requests.post(url, json=payload, headers=HEADERS).json()\n",
    "\n",
    "comps = pd.json_normalize(response['comparables'])\n",
    "comps.to_csv('../comps_analysis/phipps_comps.csv')\n"
   ]
  },
  {
   "cell_type": "code",
   "execution_count": null,
   "metadata": {},
   "outputs": [],
   "source": []
  }
 ],
 "metadata": {
  "kernelspec": {
   "display_name": "testing",
   "language": "python",
   "name": "python3"
  },
  "language_info": {
   "codemirror_mode": {
    "name": "ipython",
    "version": 3
   },
   "file_extension": ".py",
   "mimetype": "text/x-python",
   "name": "python",
   "nbconvert_exporter": "python",
   "pygments_lexer": "ipython3",
   "version": "3.13.2"
  }
 },
 "nbformat": 4,
 "nbformat_minor": 2
}
